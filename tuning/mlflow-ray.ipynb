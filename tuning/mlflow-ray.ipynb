{
 "cells": [
  {
   "cell_type": "code",
   "execution_count": 1,
   "metadata": {},
   "outputs": [
    {
     "name": "stderr",
     "output_type": "stream",
     "text": [
      "2022-10-18 15:36:07,182\tINFO worker.py:1509 -- Started a local Ray instance. View the dashboard at \u001b[1m\u001b[32m127.0.0.1:8265 \u001b[39m\u001b[22m\n",
      "2022-10-18 15:36:08,007\tWARNING function_trainable.py:619 -- Function checkpointing is disabled. This may result in unexpected behavior when using checkpointing features or certain schedulers. To enable, set the train function arguments to be `func(config, checkpoint_dir=None)`.\n"
     ]
    },
    {
     "data": {
      "text/html": [
       "== Status ==<br>Current time: 2022-10-18 15:36:10 (running for 00:00:01.92)<br>Memory usage on this node: 12.0/16.0 GiB<br>Using FIFO scheduling algorithm.<br>Resources requested: 0/8 CPUs, 0/0 GPUs, 0.0/7.15 GiB heap, 0.0/2.0 GiB objects<br>Result logdir: /Users/phamthanhtu/ray_results/train_fn_2022-10-18_15-36-03<br>Number of trials: 1/1 (1 TERMINATED)<br><table>\n",
       "<thead>\n",
       "<tr><th>Trial name          </th><th>status    </th><th>loc            </th><th style=\"text-align: right;\">  a</th><th style=\"text-align: right;\">  b</th><th style=\"text-align: right;\">  iter</th><th style=\"text-align: right;\">  total time (s)</th><th style=\"text-align: right;\">  loss</th></tr>\n",
       "</thead>\n",
       "<tbody>\n",
       "<tr><td>train_fn_e96cf_00000</td><td>TERMINATED</td><td>127.0.0.1:30049</td><td style=\"text-align: right;\">  2</td><td style=\"text-align: right;\">  5</td><td style=\"text-align: right;\">     1</td><td style=\"text-align: right;\">        0.005476</td><td style=\"text-align: right;\">     7</td></tr>\n",
       "</tbody>\n",
       "</table><br><br>"
      ],
      "text/plain": [
       "<IPython.core.display.HTML object>"
      ]
     },
     "metadata": {},
     "output_type": "display_data"
    },
    {
     "name": "stdout",
     "output_type": "stream",
     "text": [
      "Result for train_fn_e96cf_00000:\n",
      "  date: 2022-10-18_15-36-10\n",
      "  done: true\n",
      "  experiment_id: 29d559ad83dd4b0fa098207a891fd2e3\n",
      "  hostname: Phams-MacBook-Pro-2.local\n",
      "  iterations_since_restore: 1\n",
      "  loss: 7\n",
      "  node_ip: 127.0.0.1\n",
      "  pid: 30049\n",
      "  time_since_restore: 0.0054759979248046875\n",
      "  time_this_iter_s: 0.0054759979248046875\n",
      "  time_total_s: 0.0054759979248046875\n",
      "  timestamp: 1666082170\n",
      "  timesteps_since_restore: 0\n",
      "  training_iteration: 1\n",
      "  trial_id: e96cf_00000\n",
      "  warmup_time: 0.07993316650390625\n",
      "  \n"
     ]
    },
    {
     "name": "stderr",
     "output_type": "stream",
     "text": [
      "2022-10-18 15:36:10,788\tINFO tune.py:758 -- Total run time: 2.78 seconds (1.91 seconds for the tuning loop).\n"
     ]
    },
    {
     "data": {
      "text/plain": [
       "<ray.tune.result_grid.ResultGrid at 0x13e59aee0>"
      ]
     },
     "execution_count": 1,
     "metadata": {},
     "output_type": "execute_result"
    }
   ],
   "source": [
    "from ray import tune\n",
    "from ray.tune.integration.mlflow import mlflow_mixin\n",
    "\n",
    "import mlflow\n",
    "\n",
    "# Create the MlFlow expriment.\n",
    "mlflow.create_experiment(\"my_experiment\")\n",
    "\n",
    "@mlflow_mixin\n",
    "def train_fn(config):\n",
    "    for i in range(10):\n",
    "        loss = config[\"a\"] + config[\"b\"]\n",
    "        mlflow.log_metric(key=\"loss\", value=loss)\n",
    "    tune.report(loss=loss, done=True)\n",
    "\n",
    "tuner = tune.Tuner(\n",
    "    train_fn,\n",
    "    param_space={\n",
    "        # define search space here\n",
    "        \"a\": tune.choice([1, 2, 3]),\n",
    "        \"b\": tune.choice([4, 5, 6]),\n",
    "        # mlflow configuration\n",
    "        \"mlflow\": {\n",
    "            \"experiment_name\": \"my_experiment\",\n",
    "            \"tracking_uri\": mlflow.get_tracking_uri()\n",
    "        }\n",
    "    })\n",
    "\n",
    "tuner.fit()"
   ]
  }
 ],
 "metadata": {
  "kernelspec": {
   "display_name": "Python 3.9.13 ('torch')",
   "language": "python",
   "name": "python3"
  },
  "language_info": {
   "codemirror_mode": {
    "name": "ipython",
    "version": 3
   },
   "file_extension": ".py",
   "mimetype": "text/x-python",
   "name": "python",
   "nbconvert_exporter": "python",
   "pygments_lexer": "ipython3",
   "version": "3.9.13"
  },
  "orig_nbformat": 4,
  "vscode": {
   "interpreter": {
    "hash": "5ffa61d47449aaf04ff74c970d58e2f8126d8497d1122c0c3ba55342874a97e9"
   }
  }
 },
 "nbformat": 4,
 "nbformat_minor": 2
}
