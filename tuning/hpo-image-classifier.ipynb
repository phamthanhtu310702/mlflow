{
 "cells": [
  {
   "cell_type": "code",
   "execution_count": null,
   "metadata": {},
   "outputs": [],
   "source": [
    "from ray.tune.integration.mlflow import mlflow_mixin \n",
    "import mlflow\n",
    "import flash\n",
    "from flash.core.data.utils import download_data\n",
    "from flash.image import ImageClassificationData, ImageClassifier"
   ]
  },
  {
   "cell_type": "code",
   "execution_count": null,
   "metadata": {},
   "outputs": [],
   "source": [
    "# export env variable to access the port when using docker. \n",
    "# otherwise, use the default mlflow "
   ]
  },
  {
   "cell_type": "code",
   "execution_count": null,
   "metadata": {},
   "outputs": [],
   "source": [
    "# Ray tune need a trainable function to pass to tune.run\n",
    "# A required input is config.\n",
    "# Ray Tune provides a wrapper function, \n",
    "# called tune.with_parameters, \n",
    "# which allows you to pass along additional \n",
    "# arbitrary parameters and objects\n",
    "@mlflow_mixin\n",
    "def train_dl_model(config, data_dir = None, num_epoch = 3, num_gpus = 0):\n",
    "    mlflow.pytorch.autolog()\n",
    "    # datamodule: batch_size tuned\n",
    "    datamodule = ImageClassificationData.from_files()\n",
    "\n",
    "    # classifier_model: optimizer, lr, backbone tuned\n",
    "    classifier_model = ImageClassifier()\n",
    "\n",
    "\n",
    "    trainer = flash.Trainer(\n",
    "    )\n",
    "    trainer.finetune()\n",
    "    # batch_size hyperparameter is not automatically captured by autologging\n",
    "    mlflow.log_param('batch_size', config['batch_size'])\n",
    "    mlflow.log_param('back_bone', config['back_bone'])\n",
    "    # ... "
   ]
  },
  {
   "cell_type": "code",
   "execution_count": null,
   "metadata": {},
   "outputs": [],
   "source": [
    "# data module: batch size\n",
    "# model: lr, optimizer, backbone \n",
    "# trainer: epoch-which is not neccessary\n",
    "# trainer.finetune: that there is also a \n",
    "# possible hyperparameter strategy that could be tuned: freeze or not\n"
   ]
  }
 ],
 "metadata": {
  "kernelspec": {
   "display_name": "Python 3.9.13 ('torch')",
   "language": "python",
   "name": "python3"
  },
  "language_info": {
   "name": "python",
   "version": "3.9.13"
  },
  "orig_nbformat": 4,
  "vscode": {
   "interpreter": {
    "hash": "5ffa61d47449aaf04ff74c970d58e2f8126d8497d1122c0c3ba55342874a97e9"
   }
  }
 },
 "nbformat": 4,
 "nbformat_minor": 2
}
