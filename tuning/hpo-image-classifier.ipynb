{
 "cells": [
  {
   "cell_type": "code",
   "execution_count": null,
   "metadata": {},
   "outputs": [],
   "source": [
    "from ray.tune.integration.mlflow import mlflow_mixin \n",
    "import mlflow\n",
    "import flash"
   ]
  },
  {
   "cell_type": "code",
   "execution_count": null,
   "metadata": {},
   "outputs": [],
   "source": [
    "@mlflow_mixin\n",
    "def train_dl_model():\n",
    "    mlflow.pytorch.autolog()\n",
    "    trainer = flash.Trainer(\n",
    "    )\n",
    "    trainer.finetune()"
   ]
  },
  {
   "cell_type": "code",
   "execution_count": null,
   "metadata": {},
   "outputs": [],
   "source": []
  }
 ],
 "metadata": {
  "kernelspec": {
   "display_name": "Python 3.9.13 ('torch')",
   "language": "python",
   "name": "python3"
  },
  "language_info": {
   "name": "python",
   "version": "3.9.13"
  },
  "orig_nbformat": 4,
  "vscode": {
   "interpreter": {
    "hash": "5ffa61d47449aaf04ff74c970d58e2f8126d8497d1122c0c3ba55342874a97e9"
   }
  }
 },
 "nbformat": 4,
 "nbformat_minor": 2
}
