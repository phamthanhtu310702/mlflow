{
 "cells": [
  {
   "cell_type": "code",
   "execution_count": 6,
   "metadata": {},
   "outputs": [],
   "source": [
    "from flash import Trainer\n",
    "from flash.core.data.utils import download_data\n",
    "from flash.image import ImageClassifier, ImageClassificationData\n"
   ]
  },
  {
   "cell_type": "code",
   "execution_count": null,
   "metadata": {},
   "outputs": [],
   "source": [
    "\n",
    "# 1. Download the data set\n",
    "download_data(\"https://pl-flash-data.s3.amazonaws.com/hymenoptera_data.zip\", \"data/\")\n",
    "\n",
    "# 2. Load the model from a checkpoint\n",
    "model = ImageClassifier.load_from_checkpoint(\n",
    "    \"https://flash-weights.s3.amazonaws.com/0.7.0/image_classification_model.pt\"\n",
    ")\n",
    "\n",
    "# 3. Predict whether the image contains an ant or a bee\n",
    "trainer = Trainer()\n",
    "\n",
    "# out: [[\"bees\"]]"
   ]
  },
  {
   "cell_type": "code",
   "execution_count": null,
   "metadata": {},
   "outputs": [],
   "source": [
    "datamodule = ImageClassificationData.from_files(\n",
    "    predict_files=[\"data/hymenoptera_data/val/bees/65038344_52a45d090d.jpg\"], batch_size=100\n",
    ")\n",
    "predictions = trainer.predict(model, datamodule=datamodule)\n",
    "print(predictions)\n",
    "# out: [[\"bees\"]]"
   ]
  }
 ],
 "metadata": {
  "kernelspec": {
   "display_name": "Python 3.9.13 ('torch')",
   "language": "python",
   "name": "python3"
  },
  "language_info": {
   "codemirror_mode": {
    "name": "ipython",
    "version": 3
   },
   "file_extension": ".py",
   "mimetype": "text/x-python",
   "name": "python",
   "nbconvert_exporter": "python",
   "pygments_lexer": "ipython3",
   "version": "3.9.13"
  },
  "orig_nbformat": 4,
  "vscode": {
   "interpreter": {
    "hash": "5ffa61d47449aaf04ff74c970d58e2f8126d8497d1122c0c3ba55342874a97e9"
   }
  }
 },
 "nbformat": 4,
 "nbformat_minor": 2
}
