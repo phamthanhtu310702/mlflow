{
 "cells": [
  {
   "cell_type": "code",
   "execution_count": 1,
   "metadata": {},
   "outputs": [
    {
     "name": "stderr",
     "output_type": "stream",
     "text": [
      "/Users/phamthanhtu/opt/miniconda3/envs/torch/lib/python3.9/site-packages/torchvision/models/_utils.py:252: UserWarning: Accessing the model URLs via the internal dictionary of the module is deprecated since 0.13 and will be removed in 0.15. Please access them via the appropriate Weights Enum instead.\n",
      "  warnings.warn(\n"
     ]
    }
   ],
   "source": [
    "# reuse the Image classification model\n",
    "import torch\n",
    "import os\n",
    "import mlflow\n",
    "import flash\n",
    "from flash.core.data.utils import download_data\n",
    "from flash.image import ImageClassificationData, ImageClassifier\n"
   ]
  },
  {
   "cell_type": "code",
   "execution_count": 2,
   "metadata": {},
   "outputs": [],
   "source": [
    "# Setup the mlflow experiment and AWS access\n",
    "os.environ[\"MLFLOW_TRACKING_URI\"] = \"http://localhost\"\n",
    "os.environ[\"MLFLOW_S3_ENDPOINT_URL\"] = \"http://localhost:9000\"\n",
    "os.environ[\"AWS_ACCESS_KEY_ID\"] = \"minio\"\n",
    "os.environ[\"AWS_SECRET_ACCESS_KEY\"] = \"minio123\""
   ]
  },
  {
   "cell_type": "code",
   "execution_count": 3,
   "metadata": {},
   "outputs": [
    {
     "name": "stderr",
     "output_type": "stream",
     "text": [
      "GPU available: False, used: False\n",
      "TPU available: False, using: 0 TPU cores\n",
      "IPU available: False, using: 0 IPUs\n"
     ]
    }
   ],
   "source": [
    "datamodule = ImageClassificationData.from_folders(\n",
    "    train_folder=\"../data-2/hymenoptera_data/train/\",\n",
    "    val_folder=\"../data-2/hymenoptera_data/val/\",\n",
    "    batch_size=2,\n",
    "    transform_kwargs={\"image_size\": (196, 196), \"mean\": (0.485, 0.456, 0.406), \"std\": (0.229, 0.224, 0.225)},\n",
    ")\n",
    "\n",
    "# 2. Build the task\n",
    "model = ImageClassifier(backbone=\"resnet18\", labels=datamodule.labels)\n",
    "trainer = flash.Trainer(max_epochs=1, gpus=torch.cuda.device_count())"
   ]
  },
  {
   "cell_type": "code",
   "execution_count": 4,
   "metadata": {},
   "outputs": [
    {
     "name": "stdout",
     "output_type": "stream",
     "text": [
      "experiment_id: 1\n"
     ]
    }
   ],
   "source": [
    "# set experiment\n",
    "EXPERIMENT_NAME = \"dl_model\"\n",
    "mlflow.set_experiment(EXPERIMENT_NAME)\n",
    "experiment = mlflow.get_experiment_by_name(EXPERIMENT_NAME)\n",
    "print(\"experiment_id:\", experiment.experiment_id)"
   ]
  },
  {
   "cell_type": "code",
   "execution_count": 5,
   "metadata": {},
   "outputs": [
    {
     "name": "stderr",
     "output_type": "stream",
     "text": [
      "\n",
      "  | Name          | Type           | Params\n",
      "-------------------------------------------------\n",
      "0 | train_metrics | ModuleDict     | 0     \n",
      "1 | val_metrics   | ModuleDict     | 0     \n",
      "2 | test_metrics  | ModuleDict     | 0     \n",
      "3 | adapter       | DefaultAdapter | 11.2 M\n",
      "-------------------------------------------------\n",
      "10.6 K    Trainable params\n",
      "11.2 M    Non-trainable params\n",
      "11.2 M    Total params\n",
      "44.710    Total estimated model params size (MB)\n"
     ]
    },
    {
     "data": {
      "application/vnd.jupyter.widget-view+json": {
       "model_id": "3f6c1e25992b4f46abcab755f1778fea",
       "version_major": 2,
       "version_minor": 0
      },
      "text/plain": [
       "Validation sanity check: 0it [00:00, ?it/s]"
      ]
     },
     "metadata": {},
     "output_type": "display_data"
    },
    {
     "name": "stderr",
     "output_type": "stream",
     "text": [
      "/Users/phamthanhtu/opt/miniconda3/envs/torch/lib/python3.9/site-packages/pytorch_lightning/trainer/data_loading.py:105: UserWarning: The dataloader, val dataloader 0, does not have many workers which may be a bottleneck. Consider increasing the value of the `num_workers` argument` (try 8 which is the number of cpus on this machine) in the `DataLoader` init to improve performance.\n",
      "  rank_zero_warn(\n",
      "/Users/phamthanhtu/opt/miniconda3/envs/torch/lib/python3.9/site-packages/pytorch_lightning/trainer/data_loading.py:105: UserWarning: The dataloader, train dataloader, does not have many workers which may be a bottleneck. Consider increasing the value of the `num_workers` argument` (try 8 which is the number of cpus on this machine) in the `DataLoader` init to improve performance.\n",
      "  rank_zero_warn(\n",
      "/Users/phamthanhtu/opt/miniconda3/envs/torch/lib/python3.9/site-packages/pytorch_lightning/trainer/data_loading.py:322: UserWarning: The number of training samples (6) is smaller than the logging interval Trainer(log_every_n_steps=50). Set a lower value for log_every_n_steps if you want to see logs for the training epoch.\n",
      "  rank_zero_warn(\n"
     ]
    },
    {
     "data": {
      "application/vnd.jupyter.widget-view+json": {
       "model_id": "73e9a552f2464871948a863dc8843e85",
       "version_major": 2,
       "version_minor": 0
      },
      "text/plain": [
       "Training: -1it [00:00, ?it/s]"
      ]
     },
     "metadata": {},
     "output_type": "display_data"
    },
    {
     "data": {
      "application/vnd.jupyter.widget-view+json": {
       "model_id": "5100a7cb4bf545759de3a58e735b16cc",
       "version_major": 2,
       "version_minor": 0
      },
      "text/plain": [
       "Validating: 0it [00:00, ?it/s]"
      ]
     },
     "metadata": {},
     "output_type": "display_data"
    },
    {
     "name": "stderr",
     "output_type": "stream",
     "text": [
      "/Users/phamthanhtu/opt/miniconda3/envs/torch/lib/python3.9/site-packages/pytorch_lightning/trainer/callback_hook.py:102: LightningDeprecationWarning: The signature of `Callback.on_train_epoch_end` has changed in v1.3. `outputs` parameter has been removed. Support for the old signature will be removed in v1.5\n",
      "  warning_cache.deprecation(\n",
      "/Users/phamthanhtu/opt/miniconda3/envs/torch/lib/python3.9/site-packages/pytorch_lightning/trainer/deprecated_api.py:25: LightningDeprecationWarning: `Trainer.running_sanity_check` has been renamed to `Trainer.sanity_checking` and will be removed in v1.5.\n",
      "  rank_zero_deprecation(\n",
      "/Users/phamthanhtu/opt/miniconda3/envs/torch/lib/python3.9/site-packages/pytorch_lightning/trainer/configuration_validator.py:101: UserWarning: you defined a test_step but have no test_dataloader. Skipping test loop\n",
      "  rank_zero_warn(f\"you defined a {step_name} but have no {loader_name}. Skipping {stage} loop\")\n",
      "/Users/phamthanhtu/opt/miniconda3/envs/torch/lib/python3.9/site-packages/pytorch_lightning/core/datamodule.py:423: LightningDeprecationWarning: DataModule.prepare_data has already been called, so it will not be called again. In v1.6 this behavior will change to always call DataModule.prepare_data.\n",
      "  rank_zero_deprecation(\n"
     ]
    }
   ],
   "source": [
    "mlflow.pytorch.autolog()\n",
    "\n",
    "with mlflow.start_run(experiment_id=experiment.experiment_id, run_name=\"image-classifier\") as dl_model_tracking_run:\n",
    "    trainer.finetune(model, datamodule=datamodule, strategy=\"freeze\")\n",
    "    trainer.test()"
   ]
  },
  {
   "cell_type": "code",
   "execution_count": 6,
   "metadata": {},
   "outputs": [
    {
     "name": "stdout",
     "output_type": "stream",
     "text": [
      "98461adaab1d453c9f5573c49ce41193\n",
      "active\n"
     ]
    }
   ],
   "source": [
    "run_id = dl_model_tracking_run.info.run_id\n",
    "print(run_id)\n",
    "print(mlflow.get_run(run_id).info.lifecycle_stage)"
   ]
  },
  {
   "cell_type": "code",
   "execution_count": 7,
   "metadata": {},
   "outputs": [],
   "source": [
    "# use the run_id to construct a logged_model URI.\n",
    "logged_model = f'runs:/{run_id}/model'"
   ]
  },
  {
   "cell_type": "code",
   "execution_count": 8,
   "metadata": {},
   "outputs": [],
   "source": [
    "# Load model \n",
    "loaded_model = mlflow.pytorch.load_model(logged_model)"
   ]
  },
  {
   "cell_type": "code",
   "execution_count": null,
   "metadata": {},
   "outputs": [],
   "source": [
    "# predict\n",
    "datamodule = ImageClassificationData.from_files(\n",
    "    predict_files=[\n",
    "        \"../data-2/hymenoptera_data/predict/153783656_85f9c3ac70.jpg\" ],\n",
    "    batch_size=1,\n",
    ")\n",
    "predictions = trainer.predict(loaded_model, datamodule=datamodule)\n",
    "print(predictions)"
   ]
  },
  {
   "cell_type": "code",
   "execution_count": 9,
   "metadata": {},
   "outputs": [
    {
     "name": "stderr",
     "output_type": "stream",
     "text": [
      "Successfully registered model 'image-classifier'.\n",
      "2022/10/18 10:36:43 INFO mlflow.tracking._model_registry.client: Waiting up to 300 seconds for model version to finish creation.                     Model name: image-classifier, version 1\n"
     ]
    },
    {
     "name": "stdout",
     "output_type": "stream",
     "text": [
      "image-classifier\n",
      "1\n"
     ]
    },
    {
     "name": "stderr",
     "output_type": "stream",
     "text": [
      "Created version '1' of model 'image-classifier'.\n"
     ]
    }
   ],
   "source": [
    "# register model\n",
    "model_register = mlflow.register_model(logged_model, 'image-classifier')\n",
    "print(model_register.name)\n",
    "print(model_register.version)"
   ]
  }
 ],
 "metadata": {
  "kernelspec": {
   "display_name": "Python 3.9.13 ('torch')",
   "language": "python",
   "name": "python3"
  },
  "language_info": {
   "codemirror_mode": {
    "name": "ipython",
    "version": 3
   },
   "file_extension": ".py",
   "mimetype": "text/x-python",
   "name": "python",
   "nbconvert_exporter": "python",
   "pygments_lexer": "ipython3",
   "version": "3.9.13"
  },
  "orig_nbformat": 4,
  "vscode": {
   "interpreter": {
    "hash": "5ffa61d47449aaf04ff74c970d58e2f8126d8497d1122c0c3ba55342874a97e9"
   }
  }
 },
 "nbformat": 4,
 "nbformat_minor": 2
}
